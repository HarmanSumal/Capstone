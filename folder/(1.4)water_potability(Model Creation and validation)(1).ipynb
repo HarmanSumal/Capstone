{
 "cells": [
  {
   "cell_type": "markdown",
   "metadata": {
    "id": "2fv1fwhQIhTy"
   },
   "source": [
    "## Model Creation and validation"
   ]
  },
  {
   "cell_type": "code",
   "execution_count": null,
   "metadata": {
    "id": "wkeYbVu1IDoa"
   },
   "outputs": [],
   "source": [
    "scaler = RobustScaler() # creating the scaler object to scale the all the numerical feature"
   ]
  },
  {
   "cell_type": "code",
   "execution_count": null,
   "metadata": {
    "id": "pD9dd4P7JDdh"
   },
   "outputs": [],
   "source": [
    "X = df.drop('Potability',axis = 1)\n",
    "y = df['Potability']"
   ]
  },
  {
   "cell_type": "code",
   "execution_count": null,
   "metadata": {
    "colab": {
     "base_uri": "https://localhost:8080/"
    },
    "id": "UBM35jh5KXYc",
    "outputId": "bf4e2cd0-1ca1-4105-fd79-667a53fceea2"
   },
   "outputs": [
    {
     "name": "stdout",
     "output_type": "stream",
     "text": [
      "shape of the train data : (2620, 9)\n",
      "shape of the train target : (2620,)\n",
      "shape of the test data : (656, 9)\n",
      "shape of the test target : (656,)\n"
     ]
    }
   ],
   "source": [
    "X_train, X_test, y_train, y_test = train_test_split(X,y,test_size = 0.2, random_state = 42, shuffle = True, stratify = y)\n",
    "print(f'shape of the train data : {X_train.shape}')\n",
    "print(f'shape of the train target : {y_train.shape}')\n",
    "print(f'shape of the test data : {X_test.shape}')\n",
    "print(f'shape of the test target : {y_test.shape}')"
   ]
  },
  {
   "cell_type": "code",
   "execution_count": null,
   "metadata": {
    "id": "_dWHyhDol1hY"
   },
   "outputs": [],
   "source": [
    "X_train = scaler.fit_transform(X_train)\n",
    "X_test = scaler.transform(X_test)"
   ]
  },
  {
   "cell_type": "markdown",
   "metadata": {
    "id": "xnm_4Z0bLUI9"
   },
   "source": [
    "### Random Forest"
   ]
  },
  {
   "cell_type": "markdown",
   "metadata": {
    "id": "euiSIyxJVY9S"
   },
   "source": [
    "#### Baseline Model"
   ]
  },
  {
   "cell_type": "code",
   "execution_count": null,
   "metadata": {
    "colab": {
     "base_uri": "https://localhost:8080/"
    },
    "id": "l-0OY-F2jPlz",
    "outputId": "053971de-9574-4776-b63c-f8551ed5cc07"
   },
   "outputs": [
    {
     "name": "stdout",
     "output_type": "stream",
     "text": [
      "Accuracy from Decision Tree : 0.6036585365853658\n",
      "Confustion Metrix : \n",
      "[[282 118]\n",
      " [142 114]]\n",
      "Classification Report\n",
      "              precision    recall  f1-score   support\n",
      "\n",
      "           0       0.67      0.70      0.68       400\n",
      "           1       0.49      0.45      0.47       256\n",
      "\n",
      "    accuracy                           0.60       656\n",
      "   macro avg       0.58      0.58      0.58       656\n",
      "weighted avg       0.60      0.60      0.60       656\n",
      "\n"
     ]
    }
   ],
   "source": [
    "dt = DecisionTreeClassifier(random_state = 42)\n",
    "dt.fit(X_train,y_train)\n",
    "y_pred_rf = dt.predict(X_test)\n",
    "rf_acc = dt.score(X_test,y_test)\n",
    "print(f'Accuracy from Decision Tree : {rf_acc}')\n",
    "print('Confustion Metrix : ')\n",
    "print(confusion_matrix(y_test,y_pred_rf))\n",
    "print('Classification Report')\n",
    "print(classification_report(y_test,y_pred_rf))"
   ]
  },
  {
   "cell_type": "code",
   "execution_count": null,
   "metadata": {
    "colab": {
     "base_uri": "https://localhost:8080/"
    },
    "id": "zjVl8PzUVSje",
    "outputId": "0b5b8e4e-d408-4b9c-a074-ca9945350ffc"
   },
   "outputs": [
    {
     "name": "stdout",
     "output_type": "stream",
     "text": [
      "Accuracy from Random Forest Classifier : 0.6554878048780488\n",
      "Confustion Metrix : \n",
      "[[350  50]\n",
      " [176  80]]\n",
      "Classification Report\n",
      "              precision    recall  f1-score   support\n",
      "\n",
      "           0       0.67      0.88      0.76       400\n",
      "           1       0.62      0.31      0.41       256\n",
      "\n",
      "    accuracy                           0.66       656\n",
      "   macro avg       0.64      0.59      0.59       656\n",
      "weighted avg       0.65      0.66      0.62       656\n",
      "\n"
     ]
    }
   ],
   "source": [
    "rf = RandomForestClassifier(random_state = 42)\n",
    "rf.fit(X_train,y_train)\n",
    "y_pred_rf = rf.predict(X_test)\n",
    "rf_acc = rf.score(X_test,y_test)\n",
    "print(f'Accuracy from Random Forest Classifier : {rf_acc}')\n",
    "print('Confustion Metrix : ')\n",
    "print(confusion_matrix(y_test,y_pred_rf))\n",
    "print('Classification Report')\n",
    "print(classification_report(y_test,y_pred_rf))"
   ]
  },
  {
   "cell_type": "markdown",
   "metadata": {
    "id": "ooi0SrJeVfa1"
   },
   "source": [
    "#### Hyper-parameter tuning"
   ]
  },
  {
   "cell_type": "code",
   "execution_count": null,
   "metadata": {
    "id": "j9O7RgxKQkLO"
   },
   "outputs": [],
   "source": [
    "# Number of trees in random forest\n",
    "n_estimators = [int(x) for x in np.linspace(start = 50, stop = 500, num = 10)]\n",
    "# Number of features to consider at every split\n",
    "max_features = ['auto', 'sqrt','log2']\n",
    "# Maximum number of levels in tree\n",
    "max_depth = [int(x) for x in np.linspace(2, 10, num = 5)]\n",
    "max_depth.append(None)\n",
    "# Minimum number of samples required to split a node\n",
    "min_samples_split = [int(x) for x in np.linspace(2,20,5)]\n",
    "# Minimum number of samples required at each leaf node\n",
    "min_samples_leaf = [int(x) for x in np.linspace(2,10,5)]\n",
    "# Method of selecting samples for training each tree\n",
    "bootstrap = [True]\n",
    "criterion = ['gini','entropy']\n",
    "\n",
    "# Create the random grid\n",
    "random_grid = {'n_estimators': n_estimators,\n",
    "               'max_features': max_features,\n",
    "               'max_depth': max_depth,\n",
    "               'min_samples_split': min_samples_split,\n",
    "               'min_samples_leaf': min_samples_leaf,\n",
    "               'bootstrap': bootstrap,\n",
    "               'criterion': criterion}"
   ]
  },
  {
   "cell_type": "code",
   "execution_count": null,
   "metadata": {
    "colab": {
     "base_uri": "https://localhost:8080/"
    },
    "id": "Y97wDW9fLYeT",
    "outputId": "585f947b-fc0e-4990-bf73-e03ee9880d1c"
   },
   "outputs": [
    {
     "name": "stdout",
     "output_type": "stream",
     "text": [
      "Fitting 5 folds for each of 200 candidates, totalling 1000 fits\n",
      "Best Parameters using Randomized search : {'n_estimators': 200, 'min_samples_split': 2, 'min_samples_leaf': 2, 'max_features': 'auto', 'max_depth': None, 'criterion': 'gini', 'bootstrap': True}\n",
      "Best Score using Randomized search : 0.6694656488549617\n"
     ]
    }
   ],
   "source": [
    "rf = RandomForestClassifier(random_state = 42)\n",
    "rf_random_search = RandomizedSearchCV(estimator = rf, param_distributions = random_grid, n_iter = 200, cv = 5, verbose=2, random_state=42, n_jobs = -1)\n",
    "rf_random_search.fit(X_train,y_train)\n",
    "\n",
    "print(f'Best Parameters using Randomized search : {rf_random_search.best_params_}')\n",
    "print(f'Best Score using Randomized search : {rf_random_search.best_score_}')"
   ]
  },
  {
   "cell_type": "code",
   "execution_count": null,
   "metadata": {
    "colab": {
     "base_uri": "https://localhost:8080/"
    },
    "id": "RM-l_BioQyMh",
    "outputId": "c8233e61-51ef-4c3b-92ba-881436f81b4a"
   },
   "outputs": [
    {
     "name": "stdout",
     "output_type": "stream",
     "text": [
      "Fitting 5 folds for each of 54 candidates, totalling 270 fits\n",
      "Best Parameters using Grid search : {'bootstrap': True, 'criterion': 'gini', 'max_depth': None, 'max_features': 'auto', 'min_samples_leaf': 1, 'min_samples_split': 2, 'n_estimators': 300}\n",
      "Best Score using Grid search : 0.6744274809160304\n"
     ]
    }
   ],
   "source": [
    "# using Gridsearch after RandomizedSearch to finetune the parameters\n",
    "grid = {\n",
    "    'n_estimators' : [rf_random_search.best_params_['n_estimators'],rf_random_search.best_params_['n_estimators']+50,rf_random_search.best_params_['n_estimators']+100],\n",
    "    'min_samples_split' : [rf_random_search.best_params_['min_samples_split'],rf_random_search.best_params_['min_samples_split']-1,rf_random_search.best_params_['min_samples_split']+1],\n",
    "    'min_samples_leaf' : [rf_random_search.best_params_['min_samples_leaf'],rf_random_search.best_params_['min_samples_leaf']-1,rf_random_search.best_params_['min_samples_leaf']+1],\n",
    "    'max_depth' : [rf_random_search.best_params_['max_depth'],None],\n",
    "    'max_features' : [rf_random_search.best_params_['max_features']],\n",
    "    'criterion' : [rf_random_search.best_params_['criterion']],\n",
    "    'bootstrap' : [rf_random_search.best_params_['bootstrap']]\n",
    "}\n",
    "rf_clf = RandomForestClassifier(random_state = 42)\n",
    "rf_grid_search = GridSearchCV(rf_clf,grid,n_jobs = -1,cv=5,verbose = 3)\n",
    "rf_grid_search.fit(X_train,y_train)\n",
    "\n",
    "print(f'Best Parameters using Grid search : {rf_grid_search.best_params_}')\n",
    "print(f'Best Score using Grid search : {rf_grid_search.best_score_}')"
   ]
  },
  {
   "cell_type": "code",
   "execution_count": null,
   "metadata": {
    "colab": {
     "base_uri": "https://localhost:8080/"
    },
    "id": "zpBulPlHQxpv",
    "outputId": "88fdec11-17b1-46a4-b573-eb1e16c7d805"
   },
   "outputs": [
    {
     "name": "stdout",
     "output_type": "stream",
     "text": [
      "Accuracy from Random Forest after hyper parameter tuning : 0.6570121951219512\n",
      "Confustion Metrix : \n",
      "[[351  49]\n",
      " [176  80]]\n",
      "Classification Report\n",
      "              precision    recall  f1-score   support\n",
      "\n",
      "           0       0.67      0.88      0.76       400\n",
      "           1       0.62      0.31      0.42       256\n",
      "\n",
      "    accuracy                           0.66       656\n",
      "   macro avg       0.64      0.59      0.59       656\n",
      "weighted avg       0.65      0.66      0.62       656\n",
      "\n"
     ]
    }
   ],
   "source": [
    "y_pred_rf = rf_grid_search.predict(X_test)\n",
    "rf_acc = rf_grid_search.score(X_test,y_test)\n",
    "print(f'Accuracy from Random Forest after hyper parameter tuning : {rf_acc}')\n",
    "print('Confustion Metrix : ')\n",
    "print(confusion_matrix(y_test,y_pred_rf))\n",
    "print('Classification Report')\n",
    "print(classification_report(y_test,y_pred_rf))"
   ]
  }
 ],
 "metadata": {
  "colab": {
   "provenance": []
  },
  "kernelspec": {
   "display_name": "Python 3 (ipykernel)",
   "language": "python",
   "name": "python3"
  },
  "language_info": {
   "codemirror_mode": {
    "name": "ipython",
    "version": 3
   },
   "file_extension": ".py",
   "mimetype": "text/x-python",
   "name": "python",
   "nbconvert_exporter": "python",
   "pygments_lexer": "ipython3",
   "version": "3.8.13"
  }
 },
 "nbformat": 4,
 "nbformat_minor": 1
}
